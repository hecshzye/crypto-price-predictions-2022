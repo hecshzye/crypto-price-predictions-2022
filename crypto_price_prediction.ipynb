{
  "nbformat": 4,
  "nbformat_minor": 0,
  "metadata": {
    "colab": {
      "name": "crypto-price-prediction",
      "provenance": [],
      "collapsed_sections": [],
      "mount_file_id": "1PEUbSacYL3md-pRzTG7i4VL7H4qVEEjh",
      "authorship_tag": "ABX9TyMCOax4PmYUozT2mbQ5o95c",
      "include_colab_link": true
    },
    "kernelspec": {
      "name": "python3",
      "display_name": "Python 3"
    },
    "language_info": {
      "name": "python"
    }
  },
  "cells": [
    {
      "cell_type": "markdown",
      "metadata": {
        "id": "view-in-github",
        "colab_type": "text"
      },
      "source": [
        "<a href=\"https://colab.research.google.com/github/hecshzye/crypto-price-predictions-2022/blob/main/crypto_price_prediction.ipynb\" target=\"_parent\"><img src=\"https://colab.research.google.com/assets/colab-badge.svg\" alt=\"Open In Colab\"/></a>"
      ]
    },
    {
      "cell_type": "markdown",
      "source": [
        "#  💲 Bitcoin Price Prediction using Deep Learning 💲"
      ],
      "metadata": {
        "id": "d2aHOicX9ytF"
      }
    },
    {
      "cell_type": "markdown",
      "source": [
        "- Time series forecasting using TensorFlow to predict the price of Bitcoin (BTC) \n",
        "\n",
        "- The dataset used in this project is from CoinDesk: https://www.coindesk.com/price/bitcoin/\n",
        "\n",
        "- Link to the dataset used (2014/03/11-2022/01/18): https://raw.githubusercontent.com/hecshzye/crypto-price-predictions-2022/main/BTC_USD_2014-11-04_2022-01-18-CoinDesk.csv\n",
        "\n",
        "\n",
        "- **`LEGAL NOTE`** ⚠️\n",
        "     \n",
        "     - **`Bitcoin (BTC) Price Prediction Using Deep Learning` project and its   `findings, conclusions and models` are `STRICTLY NOT FINANCIAL ADVICE` in any manner.**\n",
        "\n",
        "     - **`ANY FINDINGS AND PREDICTIONS DERIVED FROM THIS MODEL IS ONLY FOR EDUCATIONAL, LEARNING AND RESEARCH PURPOSES`.**\n"
      ],
      "metadata": {
        "id": "m12GPW1RG5IO"
      }
    },
    {
      "cell_type": "code",
      "source": [
        ""
      ],
      "metadata": {
        "id": "42SHcsOeK58W"
      },
      "execution_count": null,
      "outputs": []
    }
  ]
}