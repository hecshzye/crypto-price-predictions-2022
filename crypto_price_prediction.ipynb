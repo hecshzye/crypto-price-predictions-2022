{
  "nbformat": 4,
  "nbformat_minor": 0,
  "metadata": {
    "colab": {
      "name": "crypto-price-prediction",
      "provenance": [],
      "collapsed_sections": [],
      "mount_file_id": "1PEUbSacYL3md-pRzTG7i4VL7H4qVEEjh",
      "authorship_tag": "ABX9TyMknQvygF++9FqGcJrN3tdn",
      "include_colab_link": true
    },
    "kernelspec": {
      "name": "python3",
      "display_name": "Python 3"
    },
    "language_info": {
      "name": "python"
    }
  },
  "cells": [
    {
      "cell_type": "markdown",
      "metadata": {
        "id": "view-in-github",
        "colab_type": "text"
      },
      "source": [
        "<a href=\"https://colab.research.google.com/github/hecshzye/crypto-price-predictions-2022/blob/main/crypto_price_prediction.ipynb\" target=\"_parent\"><img src=\"https://colab.research.google.com/assets/colab-badge.svg\" alt=\"Open In Colab\"/></a>"
      ]
    },
    {
      "cell_type": "markdown",
      "source": [
        "#  💲 Bitcoin Price Prediction using Deep Learning 💲"
      ],
      "metadata": {
        "id": "d2aHOicX9ytF"
      }
    },
    {
      "cell_type": "markdown",
      "source": [
        "- Time series forecasting using TensorFlow to predict the price of Bitcoin (BTC) \n",
        "\n",
        "- The dataset used in this project is from CoinDesk: https://www.coindesk.com/price/bitcoin/\n",
        "\n",
        "- Link to the dataset used (2014/03/11-2022/01/18): https://raw.githubusercontent.com/hecshzye/crypto-price-predictions-2022/main/BTC_USD_2014-11-04_2022-01-18-CoinDesk.csv\n",
        "\n",
        "\n",
        "- **`LEGAL NOTE`** ⚠️\n",
        "     \n",
        "     - **`Bitcoin (BTC) Price Prediction Using Deep Learning` project and its   `findings, conclusions and models` are `STRICTLY NOT FINANCIAL ADVICE` in any manner.**\n",
        "\n",
        "     - **`ANY FINDINGS AND PREDICTIONS DERIVED FROM THIS MODEL IS ONLY FOR EDUCATIONAL, LEARNING AND RESEARCH PURPOSES`.**\n"
      ],
      "metadata": {
        "id": "m12GPW1RG5IO"
      }
    },
    {
      "cell_type": "code",
      "source": [
        "# Imports\n",
        "import numpy as np\n",
        "import pandas as pd\n",
        "import matplotlib.pyplot as plt\n",
        "import os\n",
        "import zipfile\n",
        "import tensorflow as tf\n",
        "import csv\n",
        "import datetime"
      ],
      "metadata": {
        "id": "42SHcsOeK58W"
      },
      "execution_count": 3,
      "outputs": []
    },
    {
      "cell_type": "code",
      "source": [
        "# helper function pre-written\n",
        "!wget https://raw.githubusercontent.com/hecshzye/crypto-price-predictions-2022/main/helper_functions.py"
      ],
      "metadata": {
        "colab": {
          "base_uri": "https://localhost:8080/"
        },
        "id": "1o3xANWWPqqq",
        "outputId": "efa79166-9dda-4a93-e369-d4a914cd06c8"
      },
      "execution_count": 4,
      "outputs": [
        {
          "output_type": "stream",
          "name": "stdout",
          "text": [
            "--2022-01-18 08:14:39--  https://raw.githubusercontent.com/hecshzye/crypto-price-predictions-2022/main/helper_functions.py\n",
            "Resolving raw.githubusercontent.com (raw.githubusercontent.com)... 185.199.108.133, 185.199.109.133, 185.199.110.133, ...\n",
            "Connecting to raw.githubusercontent.com (raw.githubusercontent.com)|185.199.108.133|:443... connected.\n",
            "HTTP request sent, awaiting response... 200 OK\n",
            "Length: 6442 (6.3K) [text/plain]\n",
            "Saving to: ‘helper_functions.py’\n",
            "\n",
            "helper_functions.py 100%[===================>]   6.29K  --.-KB/s    in 0s      \n",
            "\n",
            "2022-01-18 08:14:39 (48.8 MB/s) - ‘helper_functions.py’ saved [6442/6442]\n",
            "\n"
          ]
        }
      ]
    },
    {
      "cell_type": "code",
      "source": [
        "from helper_functions import create_tensorboard_callback, create_confusion_matrix, plot_loss_curves"
      ],
      "metadata": {
        "id": "UV6AGl-GQJSb"
      },
      "execution_count": 5,
      "outputs": []
    },
    {
      "cell_type": "markdown",
      "source": [
        "# Data import and Exploratory Data Analysis "
      ],
      "metadata": {
        "id": "ZDvzPMAMQPqR"
      }
    },
    {
      "cell_type": "code",
      "source": [
        "# dataset import\n",
        "!wget https://raw.githubusercontent.com/hecshzye/crypto-price-predictions-2022/main/BTC_USD_2014-11-04_2022-01-18-CoinDesk.csv"
      ],
      "metadata": {
        "colab": {
          "base_uri": "https://localhost:8080/"
        },
        "id": "Fk6IoLxjQbTM",
        "outputId": "4ee36c44-e69e-4b41-c495-d3ec3c19b1c8"
      },
      "execution_count": 6,
      "outputs": [
        {
          "output_type": "stream",
          "name": "stdout",
          "text": [
            "--2022-01-18 08:16:53--  https://raw.githubusercontent.com/hecshzye/crypto-price-predictions-2022/main/BTC_USD_2014-11-04_2022-01-18-CoinDesk.csv\n",
            "Resolving raw.githubusercontent.com (raw.githubusercontent.com)... 185.199.108.133, 185.199.109.133, 185.199.110.133, ...\n",
            "Connecting to raw.githubusercontent.com (raw.githubusercontent.com)|185.199.108.133|:443... connected.\n",
            "HTTP request sent, awaiting response... 200 OK\n",
            "Length: 156982 (153K) [text/plain]\n",
            "Saving to: ‘BTC_USD_2014-11-04_2022-01-18-CoinDesk.csv’\n",
            "\n",
            "\r          BTC_USD_2   0%[                    ]       0  --.-KB/s               \rBTC_USD_2014-11-04_ 100%[===================>] 153.30K  --.-KB/s    in 0.02s   \n",
            "\n",
            "2022-01-18 08:16:53 (8.70 MB/s) - ‘BTC_USD_2014-11-04_2022-01-18-CoinDesk.csv’ saved [156982/156982]\n",
            "\n"
          ]
        }
      ]
    },
    {
      "cell_type": "code",
      "source": [
        "# EDA & Preprocessing\n",
        "df = pd.read_csv(\"/content/BTC_USD_2014-11-04_2022-01-18-CoinDesk.csv\",\n",
        "                 parse_dates=[\"Date\"],\n",
        "                 index_col=[\"Date\"])\n",
        "df.head(10)"
      ],
      "metadata": {
        "colab": {
          "base_uri": "https://localhost:8080/",
          "height": 394
        },
        "id": "V71l28mIQqJN",
        "outputId": "972aa1a1-fac9-44bc-949a-f005609f8d6a"
      },
      "execution_count": 7,
      "outputs": [
        {
          "output_type": "execute_result",
          "data": {
            "text/html": [
              "\n",
              "  <div id=\"df-5da79a65-b1b7-4a26-a4bf-b7449ae6564b\">\n",
              "    <div class=\"colab-df-container\">\n",
              "      <div>\n",
              "<style scoped>\n",
              "    .dataframe tbody tr th:only-of-type {\n",
              "        vertical-align: middle;\n",
              "    }\n",
              "\n",
              "    .dataframe tbody tr th {\n",
              "        vertical-align: top;\n",
              "    }\n",
              "\n",
              "    .dataframe thead th {\n",
              "        text-align: right;\n",
              "    }\n",
              "</style>\n",
              "<table border=\"1\" class=\"dataframe\">\n",
              "  <thead>\n",
              "    <tr style=\"text-align: right;\">\n",
              "      <th></th>\n",
              "      <th>Currency</th>\n",
              "      <th>Closing Price (USD)</th>\n",
              "      <th>24h Open (USD)</th>\n",
              "      <th>24h High (USD)</th>\n",
              "      <th>24h Low (USD)</th>\n",
              "    </tr>\n",
              "    <tr>\n",
              "      <th>Date</th>\n",
              "      <th></th>\n",
              "      <th></th>\n",
              "      <th></th>\n",
              "      <th></th>\n",
              "      <th></th>\n",
              "    </tr>\n",
              "  </thead>\n",
              "  <tbody>\n",
              "    <tr>\n",
              "      <th>2014-11-04</th>\n",
              "      <td>BTC</td>\n",
              "      <td>324.467934</td>\n",
              "      <td>323.826186</td>\n",
              "      <td>333.539527</td>\n",
              "      <td>323.106623</td>\n",
              "    </tr>\n",
              "    <tr>\n",
              "      <th>2014-11-05</th>\n",
              "      <td>BTC</td>\n",
              "      <td>328.644408</td>\n",
              "      <td>324.424164</td>\n",
              "      <td>330.671610</td>\n",
              "      <td>320.902900</td>\n",
              "    </tr>\n",
              "    <tr>\n",
              "      <th>2014-11-06</th>\n",
              "      <td>BTC</td>\n",
              "      <td>337.921358</td>\n",
              "      <td>328.653046</td>\n",
              "      <td>342.384170</td>\n",
              "      <td>328.597125</td>\n",
              "    </tr>\n",
              "    <tr>\n",
              "      <th>2014-11-07</th>\n",
              "      <td>BTC</td>\n",
              "      <td>348.992860</td>\n",
              "      <td>337.921358</td>\n",
              "      <td>352.585895</td>\n",
              "      <td>336.236830</td>\n",
              "    </tr>\n",
              "    <tr>\n",
              "      <th>2014-11-08</th>\n",
              "      <td>BTC</td>\n",
              "      <td>341.459753</td>\n",
              "      <td>348.992860</td>\n",
              "      <td>351.651854</td>\n",
              "      <td>340.196145</td>\n",
              "    </tr>\n",
              "    <tr>\n",
              "      <th>2014-11-09</th>\n",
              "      <td>BTC</td>\n",
              "      <td>344.745289</td>\n",
              "      <td>341.459753</td>\n",
              "      <td>346.475560</td>\n",
              "      <td>340.357542</td>\n",
              "    </tr>\n",
              "    <tr>\n",
              "      <th>2014-11-10</th>\n",
              "      <td>BTC</td>\n",
              "      <td>357.239982</td>\n",
              "      <td>344.745289</td>\n",
              "      <td>357.986991</td>\n",
              "      <td>342.082083</td>\n",
              "    </tr>\n",
              "    <tr>\n",
              "      <th>2014-11-11</th>\n",
              "      <td>BTC</td>\n",
              "      <td>371.116917</td>\n",
              "      <td>371.116917</td>\n",
              "      <td>371.116917</td>\n",
              "      <td>371.116917</td>\n",
              "    </tr>\n",
              "    <tr>\n",
              "      <th>2014-11-12</th>\n",
              "      <td>BTC</td>\n",
              "      <td>366.664633</td>\n",
              "      <td>367.921363</td>\n",
              "      <td>370.800015</td>\n",
              "      <td>361.225098</td>\n",
              "    </tr>\n",
              "    <tr>\n",
              "      <th>2014-11-13</th>\n",
              "      <td>BTC</td>\n",
              "      <td>428.882925</td>\n",
              "      <td>366.789056</td>\n",
              "      <td>435.484664</td>\n",
              "      <td>366.598986</td>\n",
              "    </tr>\n",
              "  </tbody>\n",
              "</table>\n",
              "</div>\n",
              "      <button class=\"colab-df-convert\" onclick=\"convertToInteractive('df-5da79a65-b1b7-4a26-a4bf-b7449ae6564b')\"\n",
              "              title=\"Convert this dataframe to an interactive table.\"\n",
              "              style=\"display:none;\">\n",
              "        \n",
              "  <svg xmlns=\"http://www.w3.org/2000/svg\" height=\"24px\"viewBox=\"0 0 24 24\"\n",
              "       width=\"24px\">\n",
              "    <path d=\"M0 0h24v24H0V0z\" fill=\"none\"/>\n",
              "    <path d=\"M18.56 5.44l.94 2.06.94-2.06 2.06-.94-2.06-.94-.94-2.06-.94 2.06-2.06.94zm-11 1L8.5 8.5l.94-2.06 2.06-.94-2.06-.94L8.5 2.5l-.94 2.06-2.06.94zm10 10l.94 2.06.94-2.06 2.06-.94-2.06-.94-.94-2.06-.94 2.06-2.06.94z\"/><path d=\"M17.41 7.96l-1.37-1.37c-.4-.4-.92-.59-1.43-.59-.52 0-1.04.2-1.43.59L10.3 9.45l-7.72 7.72c-.78.78-.78 2.05 0 2.83L4 21.41c.39.39.9.59 1.41.59.51 0 1.02-.2 1.41-.59l7.78-7.78 2.81-2.81c.8-.78.8-2.07 0-2.86zM5.41 20L4 18.59l7.72-7.72 1.47 1.35L5.41 20z\"/>\n",
              "  </svg>\n",
              "      </button>\n",
              "      \n",
              "  <style>\n",
              "    .colab-df-container {\n",
              "      display:flex;\n",
              "      flex-wrap:wrap;\n",
              "      gap: 12px;\n",
              "    }\n",
              "\n",
              "    .colab-df-convert {\n",
              "      background-color: #E8F0FE;\n",
              "      border: none;\n",
              "      border-radius: 50%;\n",
              "      cursor: pointer;\n",
              "      display: none;\n",
              "      fill: #1967D2;\n",
              "      height: 32px;\n",
              "      padding: 0 0 0 0;\n",
              "      width: 32px;\n",
              "    }\n",
              "\n",
              "    .colab-df-convert:hover {\n",
              "      background-color: #E2EBFA;\n",
              "      box-shadow: 0px 1px 2px rgba(60, 64, 67, 0.3), 0px 1px 3px 1px rgba(60, 64, 67, 0.15);\n",
              "      fill: #174EA6;\n",
              "    }\n",
              "\n",
              "    [theme=dark] .colab-df-convert {\n",
              "      background-color: #3B4455;\n",
              "      fill: #D2E3FC;\n",
              "    }\n",
              "\n",
              "    [theme=dark] .colab-df-convert:hover {\n",
              "      background-color: #434B5C;\n",
              "      box-shadow: 0px 1px 3px 1px rgba(0, 0, 0, 0.15);\n",
              "      filter: drop-shadow(0px 1px 2px rgba(0, 0, 0, 0.3));\n",
              "      fill: #FFFFFF;\n",
              "    }\n",
              "  </style>\n",
              "\n",
              "      <script>\n",
              "        const buttonEl =\n",
              "          document.querySelector('#df-5da79a65-b1b7-4a26-a4bf-b7449ae6564b button.colab-df-convert');\n",
              "        buttonEl.style.display =\n",
              "          google.colab.kernel.accessAllowed ? 'block' : 'none';\n",
              "\n",
              "        async function convertToInteractive(key) {\n",
              "          const element = document.querySelector('#df-5da79a65-b1b7-4a26-a4bf-b7449ae6564b');\n",
              "          const dataTable =\n",
              "            await google.colab.kernel.invokeFunction('convertToInteractive',\n",
              "                                                     [key], {});\n",
              "          if (!dataTable) return;\n",
              "\n",
              "          const docLinkHtml = 'Like what you see? Visit the ' +\n",
              "            '<a target=\"_blank\" href=https://colab.research.google.com/notebooks/data_table.ipynb>data table notebook</a>'\n",
              "            + ' to learn more about interactive tables.';\n",
              "          element.innerHTML = '';\n",
              "          dataTable['output_type'] = 'display_data';\n",
              "          await google.colab.output.renderOutput(dataTable, element);\n",
              "          const docLink = document.createElement('div');\n",
              "          docLink.innerHTML = docLinkHtml;\n",
              "          element.appendChild(docLink);\n",
              "        }\n",
              "      </script>\n",
              "    </div>\n",
              "  </div>\n",
              "  "
            ],
            "text/plain": [
              "           Currency  Closing Price (USD)  ...  24h High (USD)  24h Low (USD)\n",
              "Date                                      ...                               \n",
              "2014-11-04      BTC           324.467934  ...      333.539527     323.106623\n",
              "2014-11-05      BTC           328.644408  ...      330.671610     320.902900\n",
              "2014-11-06      BTC           337.921358  ...      342.384170     328.597125\n",
              "2014-11-07      BTC           348.992860  ...      352.585895     336.236830\n",
              "2014-11-08      BTC           341.459753  ...      351.651854     340.196145\n",
              "2014-11-09      BTC           344.745289  ...      346.475560     340.357542\n",
              "2014-11-10      BTC           357.239982  ...      357.986991     342.082083\n",
              "2014-11-11      BTC           371.116917  ...      371.116917     371.116917\n",
              "2014-11-12      BTC           366.664633  ...      370.800015     361.225098\n",
              "2014-11-13      BTC           428.882925  ...      435.484664     366.598986\n",
              "\n",
              "[10 rows x 5 columns]"
            ]
          },
          "metadata": {},
          "execution_count": 7
        }
      ]
    },
    {
      "cell_type": "code",
      "source": [
        "df.info(), len(df)"
      ],
      "metadata": {
        "colab": {
          "base_uri": "https://localhost:8080/"
        },
        "id": "1YOj0vw3RNLO",
        "outputId": "175e008a-1a6a-4f49-e730-2c811f8b950d"
      },
      "execution_count": 9,
      "outputs": [
        {
          "output_type": "stream",
          "name": "stdout",
          "text": [
            "<class 'pandas.core.frame.DataFrame'>\n",
            "DatetimeIndex: 2633 entries, 2014-11-04 to 2022-01-18\n",
            "Data columns (total 5 columns):\n",
            " #   Column               Non-Null Count  Dtype  \n",
            "---  ------               --------------  -----  \n",
            " 0   Currency             2633 non-null   object \n",
            " 1   Closing Price (USD)  2633 non-null   float64\n",
            " 2   24h Open (USD)       2633 non-null   float64\n",
            " 3   24h High (USD)       2633 non-null   float64\n",
            " 4   24h Low (USD)        2633 non-null   float64\n",
            "dtypes: float64(4), object(1)\n",
            "memory usage: 123.4+ KB\n"
          ]
        },
        {
          "output_type": "execute_result",
          "data": {
            "text/plain": [
              "(None, 2633)"
            ]
          },
          "metadata": {},
          "execution_count": 9
        }
      ]
    },
    {
      "cell_type": "code",
      "source": [
        "# EDA, checking for closing price\n",
        "bitcoin_prices = pd.DataFrame(df[\"Closing Price (USD)\"]).rename(columns={\"Closing Price (USD)\": \"Price\"})\n",
        "bitcoin_prices.plot(figsize=(12, 8))\n",
        "plt.ylabel(\"BTC Price\")\n",
        "plt.title(\"BTC closing price over the years\", fontsize=14)\n",
        "plt.legend(fontsize=12);"
      ],
      "metadata": {
        "colab": {
          "base_uri": "https://localhost:8080/",
          "height": 514
        },
        "id": "E0otiYHkRea2",
        "outputId": "55b74b38-6fc8-4cd9-8ec3-9a1a50876a7f"
      },
      "execution_count": 10,
      "outputs": [
        {
          "output_type": "display_data",
          "data": {
            "image/png": "[encoded data removed]",
            "text/plain": [
              "<Figure size 864x576 with 1 Axes>"
            ]
          },
          "metadata": {
            "needs_background": "light"
          }
        }
      ]
    },
    {
      "cell_type": "code",
      "source": [
        ""
      ],
      "metadata": {
        "id": "_M6JPQhXTDV8"
      },
      "execution_count": null,
      "outputs": []
    }
  ]
}