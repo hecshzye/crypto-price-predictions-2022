{
  "nbformat": 4,
  "nbformat_minor": 0,
  "metadata": {
    "colab": {
      "name": "crypto-price-prediction",
      "provenance": [],
      "collapsed_sections": [],
      "mount_file_id": "1PEUbSacYL3md-pRzTG7i4VL7H4qVEEjh",
      "authorship_tag": "ABX9TyOc/mRKoANVi/2P6GpTk8T4",
      "include_colab_link": true
    },
    "kernelspec": {
      "name": "python3",
      "display_name": "Python 3"
    },
    "language_info": {
      "name": "python"
    }
  },
  "cells": [
    {
      "cell_type": "markdown",
      "metadata": {
        "id": "view-in-github",
        "colab_type": "text"
      },
      "source": [
        "<a href=\"https://colab.research.google.com/github/hecshzye/crypto-price-predictions-2022/blob/main/crypto_price_prediction.ipynb\" target=\"_parent\"><img src=\"https://colab.research.google.com/assets/colab-badge.svg\" alt=\"Open In Colab\"/></a>"
      ]
    },
    {
      "cell_type": "markdown",
      "source": [
        "#  💲 Bitcoin Price Prediction using Deep Learning 💲"
      ],
      "metadata": {
        "id": "d2aHOicX9ytF"
      }
    },
    {
      "cell_type": "markdown",
      "source": [
        "- Time series forecasting using TensorFlow to predict the price of Bitcoin (BTC) \n",
        "\n",
        "- The dataset used in this project is from CoinDesk: https://www.coindesk.com/price/bitcoin/\n",
        "\n",
        "- Link to the dataset used (2014/03/11-2022/01/18): https://raw.githubusercontent.com/hecshzye/crypto-price-predictions-2022/main/BTC_USD_2014-11-04_2022-01-18-CoinDesk.csv\n",
        "\n",
        "\n",
        "- **`LEGAL NOTE`** ⚠️\n",
        "     \n",
        "     - **`Bitcoin (BTC) Price Prediction Using Deep Learning` project and its   `findings, conclusions and models` are `STRICTLY NOT FINANCIAL ADVICE` in any manner.**\n",
        "\n",
        "     - **`ANY FINDINGS AND PREDICTIONS DERIVED FROM THIS MODEL IS ONLY FOR EDUCATIONAL, LEARNING AND RESEARCH PURPOSES`.**\n"
      ],
      "metadata": {
        "id": "m12GPW1RG5IO"
      }
    },
    {
      "cell_type": "code",
      "source": [
        "# Imports\n",
        "import numpy as np\n",
        "import pandas as pd\n",
        "import matplotlib.pyplot as plt\n",
        "import os\n",
        "import zipfile\n",
        "import tensorflow as tf\n",
        "import csv\n",
        "import datetime"
      ],
      "metadata": {
        "id": "42SHcsOeK58W"
      },
      "execution_count": 1,
      "outputs": []
    },
    {
      "cell_type": "code",
      "source": [
        "# helper function pre-written\n",
        "!wget https://raw.githubusercontent.com/hecshzye/crypto-price-predictions-2022/main/helper_functions.py"
      ],
      "metadata": {
        "colab": {
          "base_uri": "https://localhost:8080/"
        },
        "id": "1o3xANWWPqqq",
        "outputId": "9fb38065-36c6-4d3c-9cd8-027d1247f6d0"
      },
      "execution_count": 2,
      "outputs": [
        {
          "output_type": "stream",
          "name": "stdout",
          "text": [
            "--2022-01-26 23:54:51--  https://raw.githubusercontent.com/hecshzye/crypto-price-predictions-2022/main/helper_functions.py\n",
            "Resolving raw.githubusercontent.com (raw.githubusercontent.com)... 185.199.108.133, 185.199.109.133, 185.199.110.133, ...\n",
            "Connecting to raw.githubusercontent.com (raw.githubusercontent.com)|185.199.108.133|:443... connected.\n",
            "HTTP request sent, awaiting response... 200 OK\n",
            "Length: 6442 (6.3K) [text/plain]\n",
            "Saving to: ‘helper_functions.py’\n",
            "\n",
            "helper_functions.py 100%[===================>]   6.29K  --.-KB/s    in 0s      \n",
            "\n",
            "2022-01-26 23:54:51 (61.1 MB/s) - ‘helper_functions.py’ saved [6442/6442]\n",
            "\n"
          ]
        }
      ]
    },
    {
      "cell_type": "code",
      "source": [
        "from helper_functions import create_tensorboard_callback, create_confusion_matrix, plot_loss_curves"
      ],
      "metadata": {
        "id": "UV6AGl-GQJSb"
      },
      "execution_count": 3,
      "outputs": []
    },
    {
      "cell_type": "markdown",
      "source": [
        "# Data import and Exploratory Data Analysis "
      ],
      "metadata": {
        "id": "ZDvzPMAMQPqR"
      }
    },
    {
      "cell_type": "code",
      "source": [
        "# dataset import\n",
        "!wget https://raw.githubusercontent.com/hecshzye/crypto-price-predictions-2022/main/BTC_USD_2014-11-04_2022-01-18-CoinDesk.csv"
      ],
      "metadata": {
        "colab": {
          "base_uri": "https://localhost:8080/"
        },
        "id": "Fk6IoLxjQbTM",
        "outputId": "12ce2b16-fb9a-42a3-e16d-ba783321a148"
      },
      "execution_count": 4,
      "outputs": [
        {
          "output_type": "stream",
          "name": "stdout",
          "text": [
            "--2022-01-26 23:54:52--  https://raw.githubusercontent.com/hecshzye/crypto-price-predictions-2022/main/BTC_USD_2014-11-04_2022-01-18-CoinDesk.csv\n",
            "Resolving raw.githubusercontent.com (raw.githubusercontent.com)... 185.199.108.133, 185.199.109.133, 185.199.110.133, ...\n",
            "Connecting to raw.githubusercontent.com (raw.githubusercontent.com)|185.199.108.133|:443... connected.\n",
            "HTTP request sent, awaiting response... 200 OK\n",
            "Length: 156982 (153K) [text/plain]\n",
            "Saving to: ‘BTC_USD_2014-11-04_2022-01-18-CoinDesk.csv’\n",
            "\n",
            "\r          BTC_USD_2   0%[                    ]       0  --.-KB/s               \rBTC_USD_2014-11-04_ 100%[===================>] 153.30K  --.-KB/s    in 0.02s   \n",
            "\n",
            "2022-01-26 23:54:52 (6.91 MB/s) - ‘BTC_USD_2014-11-04_2022-01-18-CoinDesk.csv’ saved [156982/156982]\n",
            "\n"
          ]
        }
      ]
    },
    {
      "cell_type": "code",
      "source": [
        "df = pd.read_csv(\"/content/BTC_USD_2014-11-04_2022-01-18-CoinDesk.csv\",\n",
        "                 parse_dates=[\"Date\"],\n",
        "                 index_col=[\"Date\"])\n",
        "df.head(10), df.info()"
      ],
      "metadata": {
        "colab": {
          "base_uri": "https://localhost:8080/"
        },
        "id": "HNvARfuoKw0C",
        "outputId": "07a040a1-be85-4d8d-b1e0-e541d3404520"
      },
      "execution_count": 5,
      "outputs": [
        {
          "output_type": "stream",
          "name": "stdout",
          "text": [
            "<class 'pandas.core.frame.DataFrame'>\n",
            "DatetimeIndex: 2633 entries, 2014-11-04 to 2022-01-18\n",
            "Data columns (total 5 columns):\n",
            " #   Column               Non-Null Count  Dtype  \n",
            "---  ------               --------------  -----  \n",
            " 0   Currency             2633 non-null   object \n",
            " 1   Closing Price (USD)  2633 non-null   float64\n",
            " 2   24h Open (USD)       2633 non-null   float64\n",
            " 3   24h High (USD)       2633 non-null   float64\n",
            " 4   24h Low (USD)        2633 non-null   float64\n",
            "dtypes: float64(4), object(1)\n",
            "memory usage: 123.4+ KB\n"
          ]
        },
        {
          "output_type": "execute_result",
          "data": {
            "text/plain": [
              "(           Currency  Closing Price (USD)  ...  24h High (USD)  24h Low (USD)\n",
              " Date                                      ...                               \n",
              " 2014-11-04      BTC           324.467934  ...      333.539527     323.106623\n",
              " 2014-11-05      BTC           328.644408  ...      330.671610     320.902900\n",
              " 2014-11-06      BTC           337.921358  ...      342.384170     328.597125\n",
              " 2014-11-07      BTC           348.992860  ...      352.585895     336.236830\n",
              " 2014-11-08      BTC           341.459753  ...      351.651854     340.196145\n",
              " 2014-11-09      BTC           344.745289  ...      346.475560     340.357542\n",
              " 2014-11-10      BTC           357.239982  ...      357.986991     342.082083\n",
              " 2014-11-11      BTC           371.116917  ...      371.116917     371.116917\n",
              " 2014-11-12      BTC           366.664633  ...      370.800015     361.225098\n",
              " 2014-11-13      BTC           428.882925  ...      435.484664     366.598986\n",
              " \n",
              " [10 rows x 5 columns], None)"
            ]
          },
          "metadata": {},
          "execution_count": 5
        }
      ]
    },
    {
      "cell_type": "code",
      "source": [
        "len(df)"
      ],
      "metadata": {
        "colab": {
          "base_uri": "https://localhost:8080/"
        },
        "id": "Ov73BxZyLKAC",
        "outputId": "70407f91-a62f-4faa-be85-e88757f08ff8"
      },
      "execution_count": 6,
      "outputs": [
        {
          "output_type": "execute_result",
          "data": {
            "text/plain": [
              "2633"
            ]
          },
          "metadata": {},
          "execution_count": 6
        }
      ]
    },
    {
      "cell_type": "code",
      "source": [
        "# Importing, formatting and EDA\n",
        "from datetime import datetime\n",
        "timesteps = []\n",
        "btc_price = []\n",
        "with open(\"/content/BTC_USD_2014-11-04_2022-01-18-CoinDesk.csv\", \"r\") as f:\n",
        "  csv_reader = csv.reader(f, delimiter=\",\")\n",
        "  next(csv_reader)\n",
        "  for line in csv_reader:\n",
        "    timesteps.append(datetime.strptime(line[1], \"%Y-%m-%d\"))\n",
        "    btc_price.append(float(line[2]))\n",
        "\n",
        "# Plotting \n",
        "plt.figure(figsize=(15, 10))\n",
        "plt.plot(timesteps, btc_price)\n",
        "plt.title(\"BTC price over the years\", fontsize=14)\n",
        "plt.ylabel(\"BTC PRICE IN USD\")\n",
        "plt.xlabel(\"Years/Time\");"
      ],
      "metadata": {
        "colab": {
          "base_uri": "https://localhost:8080/",
          "height": 606
        },
        "id": "_M6JPQhXTDV8",
        "outputId": "70893d81-9c95-41f4-e379-ca1096fcacf7"
      },
      "execution_count": 7,
      "outputs": [
        {
          "output_type": "display_data",
          "data": {
            "image/png": "[encoded data removed]",
            "text/plain": [
              "<Figure size 1080x720 with 1 Axes>"
            ]
          },
          "metadata": {
            "needs_background": "light"
          }
        }
      ]
    },
    {
      "cell_type": "code",
      "source": [
        "bitcoin_prices = pd.DataFrame(df[\"Closing Price (USD)\"]).rename(columns={\"Closing Price (USD)\": \"Price\"})"
      ],
      "metadata": {
        "id": "N8q_m3ZqMDD8"
      },
      "execution_count": 8,
      "outputs": []
    },
    {
      "cell_type": "code",
      "source": [
        "# Function for plots\n",
        "def plot_ts(timesteps, values, format='.', start=0, end=None, label=None):\n",
        "  plt.plot(timesteps[start:end], values[start:end], format, label=label)\n",
        "  plt.xlabel(\"Time scale\")\n",
        "  plt.ylabel(\"BTC Price in USD\")\n",
        "  if label:\n",
        "    plt.legend(fontsize=12)\n",
        "  plt.grid(False)  "
      ],
      "metadata": {
        "id": "J__jYJnZe8J5"
      },
      "execution_count": 9,
      "outputs": []
    },
    {
      "cell_type": "code",
      "source": [
        "# Splitting Train & Test\n",
        "timesteps = bitcoin_prices.index.to_numpy()\n",
        "prices = bitcoin_prices[\"Price\"].to_numpy()\n",
        "split_size = int(0.95 * len(prices))\n",
        "X_train, y_train = timesteps[:split_size], prices[:split_size]\n",
        "X_test, y_test = timesteps[split_size:], prices[split_size:]\n",
        "\n",
        "# Plotting the split\n",
        "plt.figure(figsize=(15, 10))\n",
        "plot_ts(timesteps=X_train, values=y_train, label=\"Training\")\n",
        "plot_ts(timesteps=X_test, values=y_test, label=\"Testing\")"
      ],
      "metadata": {
        "colab": {
          "base_uri": "https://localhost:8080/",
          "height": 589
        },
        "id": "wKkA5F1rbQ9-",
        "outputId": "5681f4d1-7901-4bd6-f7ed-5d53a921e176"
      },
      "execution_count": 10,
      "outputs": [
        {
          "output_type": "display_data",
          "data": {
            "image/png": "[encoded data removed]",
            "text/plain": [
              "<Figure size 1080x720 with 1 Axes>"
            ]
          },
          "metadata": {
            "needs_background": "light"
          }
        }
      ]
    },
    {
      "cell_type": "code",
      "source": [
        "len(X_train), len(X_test), len(y_train), len(y_test)"
      ],
      "metadata": {
        "id": "2iUTIEcVdnnD",
        "colab": {
          "base_uri": "https://localhost:8080/"
        },
        "outputId": "a787135d-cfa6-4c9a-9a8a-353cac6770e2"
      },
      "execution_count": 11,
      "outputs": [
        {
          "output_type": "execute_result",
          "data": {
            "text/plain": [
              "(2501, 132, 2501, 132)"
            ]
          },
          "metadata": {},
          "execution_count": 11
        }
      ]
    },
    {
      "cell_type": "markdown",
      "source": [
        "**Training data** = `2501`\n",
        "\n",
        "**Testing data** = `132`"
      ],
      "metadata": {
        "id": "cROMGKfZg4L5"
      }
    },
    {
      "cell_type": "markdown",
      "source": [
        "# Modelling"
      ],
      "metadata": {
        "id": "sZljT6mfhZZ3"
      }
    },
    {
      "cell_type": "code",
      "source": [
        "# Preprocessing for Bayes' model_1 without training\n",
        "model_1_bayes = y_test[:-1]\n",
        "\n",
        "# Plotting model_1_bayes\n",
        "plt.figure(figsize=(15, 10))\n",
        "offset = 75\n",
        "plot_ts(timesteps=X_test, values=y_test, start=offset, label=\"Testing Data\")\n",
        "plot_ts(timesteps=X_test[1:], values=model_1_bayes, format=\"-\", start=offset, label=\"model_1_bayes\");"
      ],
      "metadata": {
        "id": "FltBtBmWh7mw",
        "colab": {
          "base_uri": "https://localhost:8080/",
          "height": 588
        },
        "outputId": "0c4dbdd8-cf92-4c12-9a6f-09bedba99f5b"
      },
      "execution_count": 12,
      "outputs": [
        {
          "output_type": "display_data",
          "data": {
            "image/png": "[encoded data removed]",
            "text/plain": [
              "<Figure size 1080x720 with 1 Axes>"
            ]
          },
          "metadata": {
            "needs_background": "light"
          }
        }
      ]
    },
    {
      "cell_type": "markdown",
      "source": [
        "**model_1_bayes without training using Naïve Bayes statistical modelling**"
      ],
      "metadata": {
        "id": "SbzJpbVxpYwK"
      }
    },
    {
      "cell_type": "code",
      "source": [
        "# Function for evaluation with mean absolute scaled error\n",
        "def mase_func(y_true, y_pred):\n",
        "  mae = tf.reduce_mean(tf.abs(y_true - y_pred))\n",
        "  mae_naive_no_season = tf.reduce_mean(tf.abs(y_true[1:] - y_true[:-1]))\n",
        "  return mae / mae_naive_no_season\n",
        "\n",
        "def evaluate_preds(y_true, y_pred):\n",
        "  y_true = tf.cast(y_true, dtype=tf.float32)\n",
        "  y_pred = tf.cast(y_pred, dtype=tf.float32)\n",
        "  mae = tf.keras.metrics.mean_absolute_error(y_true, y_pred)\n",
        "  mse = tf.keras.metrics.mean_squared_error(y_true, y_pred)\n",
        "  rmse = tf.sqrt(mse)\n",
        "  mape = tf.keras.metrics.mean_absolute_percentage_error(y_true, y_pred)\n",
        "  mase = mase_func(y_true, y_pred)\n",
        "\n",
        "  return {\"mae\": mae.numpy(),\n",
        "          \"mse\": mse.numpy(),\n",
        "          \"rmse\": rmse.numpy(),\n",
        "          \"mape\": mape.numpy(),\n",
        "          \"mase\": mase.numpy()}\n",
        "         \n",
        "# Evaluation for model_1_bayes\n",
        "model_1_bayes_results = evaluate_preds(y_true=y_test[1:],\n",
        "                                       y_pred=model_1_bayes)\n",
        "model_1_bayes_results        \n"
      ],
      "metadata": {
        "id": "80Rxs5duqhWg",
        "colab": {
          "base_uri": "https://localhost:8080/"
        },
        "outputId": "b52787e8-fc63-481b-a992-f4c0f284204b"
      },
      "execution_count": 13,
      "outputs": [
        {
          "output_type": "execute_result",
          "data": {
            "text/plain": [
              "{'mae': 1318.5054,\n",
              " 'mape': 2.5244212,\n",
              " 'mase': 0.9941498,\n",
              " 'mse': 3049834.0,\n",
              " 'rmse': 1746.3774}"
            ]
          },
          "metadata": {},
          "execution_count": 13
        }
      ]
    },
    {
      "cell_type": "code",
      "source": [
        "tf.reduce_mean(y_test).numpy()"
      ],
      "metadata": {
        "id": "ZSbaX5i4xes-",
        "colab": {
          "base_uri": "https://localhost:8080/"
        },
        "outputId": "29ba0ea1-1921-4ffb-bf40-f1c8736b2eea"
      },
      "execution_count": 14,
      "outputs": [
        {
          "output_type": "execute_result",
          "data": {
            "text/plain": [
              "52390.154000378796"
            ]
          },
          "metadata": {},
          "execution_count": 14
        }
      ]
    },
    {
      "cell_type": "markdown",
      "source": [
        "**model_1_bayes** is on average off by `$1318` \n",
        "\n",
        "The average value of $BTC is on test dataset is `$52,390`"
      ],
      "metadata": {
        "id": "jws4T3TjzsAA"
      }
    },
    {
      "cell_type": "markdown",
      "source": [
        "# model_2 with Windows"
      ],
      "metadata": {
        "id": "Q0PfOC2a0bOg"
      }
    },
    {
      "cell_type": "code",
      "source": [
        "# Preprocessing for model_2\n",
        "HORIZON = 1\n",
        "# A week for timessteps\n",
        "WINDOW_SIZE = 7\n",
        "\n",
        "# Function for labelling \n",
        "def window_labelling(x, horizon=1):\n",
        "  return x [:, :-horizon], x[:, -horizon:]\n",
        "\n",
        "# Function which helps to process numpy arrays as windows\n",
        "def create_window(x, window_size=7, horizon=1):\n",
        "  window_step = np.expand_dims(np.arange(window_size+horizon), axis=0)\n",
        "  window_indexes = window_step + np.expand_dims(np.arange(len(x)-(window_size+horizon-1)), axis=0).T\n",
        "  window_array = x[window_indexes]\n",
        "  windows, labels = window_labelling(window_array, horizon=horizon)\n",
        "  return windows, labels\n",
        "\n",
        "full_windows, full_labels = create_window(prices, window_size=WINDOW_SIZE, horizon=HORIZON)\n",
        "len(full_windows), len(full_labels) \n"
      ],
      "metadata": {
        "id": "DzSt9MMh0-p3",
        "colab": {
          "base_uri": "https://localhost:8080/"
        },
        "outputId": "75e41c2b-5cbc-467a-8404-e51c8b83ab3b"
      },
      "execution_count": 15,
      "outputs": [
        {
          "output_type": "execute_result",
          "data": {
            "text/plain": [
              "(2626, 2626)"
            ]
          },
          "metadata": {},
          "execution_count": 15
        }
      ]
    },
    {
      "cell_type": "code",
      "source": [
        "# Windowed arrays (from first and last)\n",
        "for i in range(3):\n",
        "  print(f\"Window(from first): {full_windows[i]} >>> Label: {full_labels[i]}\")\n",
        "  print(f\"Window(from last): {full_windows[i-3]} >>> Label: {full_labels[i-3]}\")  "
      ],
      "metadata": {
        "id": "CY3kLWjj1cP5",
        "colab": {
          "base_uri": "https://localhost:8080/"
        },
        "outputId": "10c9301c-0888-4883-daf1-36e72a29bbc9"
      },
      "execution_count": 16,
      "outputs": [
        {
          "output_type": "stream",
          "name": "stdout",
          "text": [
            "Window(from first): [324.467934 328.644408 337.921358 348.99286  341.459753 344.745289\n",
            " 357.239982] >>> Label: [371.116917]\n",
            "Window(from last): [41687.227593 41861.803632 41838.40628  42737.637061 43921.81\n",
            " 42558.937409 43090.200356] >>> Label: [43104.686581]\n",
            "Window(from first): [328.644408 337.921358 348.99286  341.459753 344.745289 357.239982\n",
            " 371.116917] >>> Label: [366.664633]\n",
            "Window(from last): [41861.803632 41838.40628  42737.637061 43921.81     42558.937409\n",
            " 43090.200356 43104.686581] >>> Label: [43102.957367]\n",
            "Window(from first): [337.921358 348.99286  341.459753 344.745289 357.239982 371.116917\n",
            " 366.664633] >>> Label: [428.882925]\n",
            "Window(from last): [41838.40628  42737.637061 43921.81     42558.937409 43090.200356\n",
            " 43104.686581 43102.957367] >>> Label: [42223.860989]\n"
          ]
        }
      ]
    },
    {
      "cell_type": "code",
      "source": [
        "# Function for splitting training and testing for model_2\n",
        "def train_test_split(windows, labels, test_split=0.02):\n",
        "  split_size = int(len(windows) * (1-test_split))\n",
        "  train_windows = windows[:split_size]\n",
        "  train_labels = labels[:split_size]\n",
        "  test_windows = windows[split_size:]\n",
        "  test_labels = labels[split_size:]\n",
        "  return train_windows, test_windows, train_labels, test_labels\n",
        "train_windows, test_windows, train_labels, test_labels = train_test_split(full_windows, full_labels)\n",
        "\n",
        "# Function for checkpoints \n",
        "def model_checkpoint(model_name, save_path=\"model_experiments\"):\n",
        "  return tf.keras.callbacks.ModelCheckpoint(filepath=os.path.join(save_path, model_name),\n",
        "                                            verbose=0,\n",
        "                                            save_best_only=True)\n",
        "\n",
        "# Modelling model_2\n",
        "from tensorflow.keras import layers\n",
        "tf.random.set_seed(42)\n",
        "model_2 = tf.keras.Sequential([\n",
        "   layers.Dense(128, activation=\"relu\"),\n",
        "   layers.Dense(HORIZON, activation=\"linear\")                               \n",
        "], name=\"model_2_dense\")\n",
        "model_2.compile(loss=\"mae\",\n",
        "                optimizer=tf.keras.optimizers.Adam(),\n",
        "                metrics=[\"mae\"])\n",
        "model_2.fit(x=train_windows,\n",
        "            y=train_labels,\n",
        "            epochs=100,\n",
        "            verbose=1,\n",
        "            batch_size=128,\n",
        "            validation_data=(test_windows, test_labels),\n",
        "            callbacks=[model_checkpoint(model_name=model_2.name)])"
      ],
      "metadata": {
        "id": "DoHDwqc05oWC",
        "colab": {
          "base_uri": "https://localhost:8080/"
        },
        "outputId": "27a694e4-fffa-4ba4-9032-0df42b99ac8f"
      },
      "execution_count": 17,
      "outputs": [
        {
          "output_type": "stream",
          "name": "stdout",
          "text": [
            "Epoch 1/100\n",
            "15/21 [====================>.........] - ETA: 0s - loss: 2714.7500 - mae: 2714.7500 INFO:tensorflow:Assets written to: model_experiments/model_2_dense/assets\n",
            "21/21 [==============================] - 3s 111ms/step - loss: 2384.3718 - mae: 2384.3718 - val_loss: 5131.4624 - val_mae: 5131.4624\n",
            "Epoch 2/100\n",
            "16/21 [=====================>........] - ETA: 0s - loss: 723.1088 - mae: 723.1088INFO:tensorflow:Assets written to: model_experiments/model_2_dense/assets\n",
            "21/21 [==============================] - 1s 69ms/step - loss: 685.2910 - mae: 685.2910 - val_loss: 3419.3157 - val_mae: 3419.3157\n",
            "Epoch 3/100\n",
            "17/21 [=======================>......] - ETA: 0s - loss: 546.0232 - mae: 546.0232INFO:tensorflow:Assets written to: model_experiments/model_2_dense/assets\n",
            "21/21 [==============================] - 1s 65ms/step - loss: 532.3688 - mae: 532.3688 - val_loss: 1711.4756 - val_mae: 1711.4756\n",
            "Epoch 4/100\n",
            "21/21 [==============================] - 0s 4ms/step - loss: 499.2782 - mae: 499.2782 - val_loss: 2566.0439 - val_mae: 2566.0439\n",
            "Epoch 5/100\n",
            " 1/21 [>.............................] - ETA: 0s - loss: 518.0460 - mae: 518.0460INFO:tensorflow:Assets written to: model_experiments/model_2_dense/assets\n",
            "21/21 [==============================] - 2s 85ms/step - loss: 500.7531 - mae: 500.7531 - val_loss: 1653.6050 - val_mae: 1653.6050\n",
            "Epoch 6/100\n",
            "21/21 [==============================] - 0s 6ms/step - loss: 492.6534 - mae: 492.6534 - val_loss: 2427.7532 - val_mae: 2427.7532\n",
            "Epoch 7/100\n",
            "20/21 [===========================>..] - ETA: 0s - loss: 488.6442 - mae: 488.6442INFO:tensorflow:Assets written to: model_experiments/model_2_dense/assets\n",
            "21/21 [==============================] - 1s 63ms/step - loss: 488.8423 - mae: 488.8423 - val_loss: 1477.8048 - val_mae: 1477.8048\n",
            "Epoch 8/100\n",
            "21/21 [==============================] - 0s 9ms/step - loss: 464.4586 - mae: 464.4586 - val_loss: 1886.1539 - val_mae: 1886.1539\n",
            "Epoch 9/100\n",
            "21/21 [==============================] - 0s 6ms/step - loss: 440.8988 - mae: 440.8988 - val_loss: 1535.3624 - val_mae: 1535.3624\n",
            "Epoch 10/100\n",
            "21/21 [==============================] - 0s 5ms/step - loss: 438.6652 - mae: 438.6652 - val_loss: 1624.9042 - val_mae: 1624.9042\n",
            "Epoch 11/100\n",
            "19/21 [==========================>...] - ETA: 0s - loss: 412.1161 - mae: 412.1161INFO:tensorflow:Assets written to: model_experiments/model_2_dense/assets\n",
            "21/21 [==============================] - 2s 90ms/step - loss: 419.9872 - mae: 419.9872 - val_loss: 1380.8064 - val_mae: 1380.8064\n",
            "Epoch 12/100\n",
            "21/21 [==============================] - 0s 5ms/step - loss: 420.4456 - mae: 420.4456 - val_loss: 1399.6366 - val_mae: 1399.6366\n",
            "Epoch 13/100\n",
            "21/21 [==============================] - 0s 5ms/step - loss: 398.9254 - mae: 398.9254 - val_loss: 1449.3040 - val_mae: 1449.3040\n",
            "Epoch 14/100\n",
            "21/21 [==============================] - 0s 7ms/step - loss: 388.3924 - mae: 388.3924 - val_loss: 1399.5154 - val_mae: 1399.5154\n",
            "Epoch 15/100\n",
            "21/21 [==============================] - 0s 13ms/step - loss: 376.9533 - mae: 376.9533 - val_loss: 1469.9630 - val_mae: 1469.9630\n",
            "Epoch 16/100\n",
            "20/21 [===========================>..] - ETA: 0s - loss: 368.1115 - mae: 368.1115INFO:tensorflow:Assets written to: model_experiments/model_2_dense/assets\n",
            "21/21 [==============================] - 2s 78ms/step - loss: 366.8080 - mae: 366.8080 - val_loss: 1346.7573 - val_mae: 1346.7573\n",
            "Epoch 17/100\n",
            "10/21 [=============>................] - ETA: 0s - loss: 394.2428 - mae: 394.2428INFO:tensorflow:Assets written to: model_experiments/model_2_dense/assets\n",
            "21/21 [==============================] - 2s 83ms/step - loss: 389.2587 - mae: 389.2587 - val_loss: 1268.6318 - val_mae: 1268.6318\n",
            "Epoch 18/100\n",
            "21/21 [==============================] - 0s 9ms/step - loss: 370.2261 - mae: 370.2261 - val_loss: 1314.6517 - val_mae: 1314.6517\n",
            "Epoch 19/100\n",
            "21/21 [==============================] - 0s 10ms/step - loss: 364.8017 - mae: 364.8017 - val_loss: 1686.2540 - val_mae: 1686.2540\n",
            "Epoch 20/100\n",
            "21/21 [==============================] - 0s 9ms/step - loss: 356.2796 - mae: 356.2796 - val_loss: 1400.5007 - val_mae: 1400.5007\n",
            "Epoch 21/100\n",
            "11/21 [==============>...............] - ETA: 0s - loss: 372.5794 - mae: 372.5794INFO:tensorflow:Assets written to: model_experiments/model_2_dense/assets\n",
            "21/21 [==============================] - 1s 62ms/step - loss: 363.2045 - mae: 363.2045 - val_loss: 1258.7881 - val_mae: 1258.7881\n",
            "Epoch 22/100\n",
            "21/21 [==============================] - 0s 5ms/step - loss: 350.1870 - mae: 350.1870 - val_loss: 1573.2218 - val_mae: 1573.2218\n",
            "Epoch 23/100\n",
            "21/21 [==============================] - 0s 6ms/step - loss: 371.3108 - mae: 371.3108 - val_loss: 1283.1934 - val_mae: 1283.1934\n",
            "Epoch 24/100\n",
            "21/21 [==============================] - 0s 6ms/step - loss: 352.3671 - mae: 352.3671 - val_loss: 1321.7273 - val_mae: 1321.7273\n",
            "Epoch 25/100\n",
            "21/21 [==============================] - 0s 8ms/step - loss: 348.1115 - mae: 348.1115 - val_loss: 1570.0955 - val_mae: 1570.0955\n",
            "Epoch 26/100\n",
            "21/21 [==============================] - 0s 7ms/step - loss: 346.8381 - mae: 346.8381 - val_loss: 1266.1858 - val_mae: 1266.1858\n",
            "Epoch 27/100\n",
            "21/21 [==============================] - 0s 17ms/step - loss: 360.7631 - mae: 360.7631 - val_loss: 1299.3418 - val_mae: 1299.3418\n",
            "Epoch 28/100\n",
            "21/21 [==============================] - 0s 16ms/step - loss: 354.2461 - mae: 354.2461 - val_loss: 1274.3110 - val_mae: 1274.3110\n",
            "Epoch 29/100\n",
            "21/21 [==============================] - 0s 15ms/step - loss: 335.9257 - mae: 335.9257 - val_loss: 1423.2775 - val_mae: 1423.2775\n",
            "Epoch 30/100\n",
            "21/21 [==============================] - 0s 8ms/step - loss: 341.9152 - mae: 341.9152 - val_loss: 1366.3517 - val_mae: 1366.3517\n",
            "Epoch 31/100\n",
            "21/21 [==============================] - 0s 10ms/step - loss: 352.8124 - mae: 352.8124 - val_loss: 1356.4360 - val_mae: 1356.4360\n",
            "Epoch 32/100\n",
            "21/21 [==============================] - 0s 10ms/step - loss: 340.0968 - mae: 340.0968 - val_loss: 1395.1294 - val_mae: 1395.1294\n",
            "Epoch 33/100\n",
            "21/21 [==============================] - 0s 7ms/step - loss: 338.2812 - mae: 338.2812 - val_loss: 1268.6035 - val_mae: 1268.6035\n",
            "Epoch 34/100\n",
            "15/21 [====================>.........] - ETA: 0s - loss: 324.4954 - mae: 324.4954INFO:tensorflow:Assets written to: model_experiments/model_2_dense/assets\n",
            "21/21 [==============================] - 1s 74ms/step - loss: 334.1328 - mae: 334.1328 - val_loss: 1249.0109 - val_mae: 1249.0109\n",
            "Epoch 35/100\n",
            "21/21 [==============================] - 0s 11ms/step - loss: 365.9325 - mae: 365.9325 - val_loss: 1457.3037 - val_mae: 1457.3037\n",
            "Epoch 36/100\n",
            "21/21 [==============================] - 0s 5ms/step - loss: 351.0096 - mae: 351.0096 - val_loss: 1480.4100 - val_mae: 1480.4100\n",
            "Epoch 37/100\n",
            "19/21 [==========================>...] - ETA: 0s - loss: 377.9417 - mae: 377.9417INFO:tensorflow:Assets written to: model_experiments/model_2_dense/assets\n",
            "21/21 [==============================] - 1s 74ms/step - loss: 379.4976 - mae: 379.4976 - val_loss: 1247.4323 - val_mae: 1247.4323\n",
            "Epoch 38/100\n",
            "21/21 [==============================] - 0s 7ms/step - loss: 347.1781 - mae: 347.1781 - val_loss: 1292.6338 - val_mae: 1292.6338\n",
            "Epoch 39/100\n",
            "21/21 [==============================] - 0s 7ms/step - loss: 332.0101 - mae: 332.0101 - val_loss: 1569.6898 - val_mae: 1569.6898\n",
            "Epoch 40/100\n",
            "21/21 [==============================] - 0s 5ms/step - loss: 342.0865 - mae: 342.0865 - val_loss: 1281.3983 - val_mae: 1281.3983\n",
            "Epoch 41/100\n",
            "21/21 [==============================] - 0s 5ms/step - loss: 336.7219 - mae: 336.7219 - val_loss: 1370.1454 - val_mae: 1370.1454\n",
            "Epoch 42/100\n",
            "21/21 [==============================] - 0s 4ms/step - loss: 344.2263 - mae: 344.2263 - val_loss: 1453.9408 - val_mae: 1453.9408\n",
            "Epoch 43/100\n",
            "21/21 [==============================] - 0s 5ms/step - loss: 338.2290 - mae: 338.2290 - val_loss: 1558.1656 - val_mae: 1558.1656\n",
            "Epoch 44/100\n",
            "21/21 [==============================] - 0s 4ms/step - loss: 392.6642 - mae: 392.6642 - val_loss: 1310.1913 - val_mae: 1310.1913\n",
            "Epoch 45/100\n",
            "21/21 [==============================] - 0s 5ms/step - loss: 347.3575 - mae: 347.3575 - val_loss: 1686.4575 - val_mae: 1686.4575\n",
            "Epoch 46/100\n",
            "21/21 [==============================] - 0s 6ms/step - loss: 340.3130 - mae: 340.3130 - val_loss: 1294.3827 - val_mae: 1294.3827\n",
            "Epoch 47/100\n",
            "21/21 [==============================] - 0s 6ms/step - loss: 337.1750 - mae: 337.1750 - val_loss: 1261.0101 - val_mae: 1261.0101\n",
            "Epoch 48/100\n",
            "21/21 [==============================] - 0s 5ms/step - loss: 334.7722 - mae: 334.7722 - val_loss: 1881.0059 - val_mae: 1881.0059\n",
            "Epoch 49/100\n",
            "21/21 [==============================] - 0s 6ms/step - loss: 413.3407 - mae: 413.3407 - val_loss: 1880.7729 - val_mae: 1880.7729\n",
            "Epoch 50/100\n",
            "21/21 [==============================] - 0s 4ms/step - loss: 353.9421 - mae: 353.9421 - val_loss: 1431.1561 - val_mae: 1431.1561\n",
            "Epoch 51/100\n",
            "21/21 [==============================] - 0s 5ms/step - loss: 348.7210 - mae: 348.7210 - val_loss: 1306.4125 - val_mae: 1306.4125\n",
            "Epoch 52/100\n",
            "21/21 [==============================] - ETA: 0s - loss: 328.6152 - mae: 328.6152INFO:tensorflow:Assets written to: model_experiments/model_2_dense/assets\n",
            "21/21 [==============================] - 1s 55ms/step - loss: 328.6152 - mae: 328.6152 - val_loss: 1223.3833 - val_mae: 1223.3833\n",
            "Epoch 53/100\n",
            "21/21 [==============================] - 0s 6ms/step - loss: 329.4955 - mae: 329.4955 - val_loss: 1599.3479 - val_mae: 1599.3479\n",
            "Epoch 54/100\n",
            "21/21 [==============================] - 0s 5ms/step - loss: 333.2792 - mae: 333.2792 - val_loss: 1243.2112 - val_mae: 1243.2112\n",
            "Epoch 55/100\n",
            "21/21 [==============================] - 0s 6ms/step - loss: 333.3583 - mae: 333.3583 - val_loss: 1346.7689 - val_mae: 1346.7689\n",
            "Epoch 56/100\n",
            "21/21 [==============================] - 0s 6ms/step - loss: 346.9925 - mae: 346.9925 - val_loss: 1456.8506 - val_mae: 1456.8506\n",
            "Epoch 57/100\n",
            "21/21 [==============================] - 0s 11ms/step - loss: 341.4399 - mae: 341.4399 - val_loss: 1574.2623 - val_mae: 1574.2623\n",
            "Epoch 58/100\n",
            "21/21 [==============================] - 0s 10ms/step - loss: 367.5036 - mae: 367.5036 - val_loss: 1457.9296 - val_mae: 1457.9296\n",
            "Epoch 59/100\n",
            "21/21 [==============================] - 0s 9ms/step - loss: 334.3070 - mae: 334.3070 - val_loss: 1228.3191 - val_mae: 1228.3191\n",
            "Epoch 60/100\n",
            "13/21 [=================>............] - ETA: 0s - loss: 344.0696 - mae: 344.0696INFO:tensorflow:Assets written to: model_experiments/model_2_dense/assets\n",
            "21/21 [==============================] - 1s 70ms/step - loss: 329.1021 - mae: 329.1021 - val_loss: 1217.0726 - val_mae: 1217.0726\n",
            "Epoch 61/100\n",
            "17/21 [=======================>......] - ETA: 0s - loss: 319.9565 - mae: 319.9565INFO:tensorflow:Assets written to: model_experiments/model_2_dense/assets\n",
            "21/21 [==============================] - 1s 73ms/step - loss: 323.8217 - mae: 323.8217 - val_loss: 1211.9531 - val_mae: 1211.9531\n",
            "Epoch 62/100\n",
            "21/21 [==============================] - 0s 7ms/step - loss: 330.6583 - mae: 330.6583 - val_loss: 1464.5436 - val_mae: 1464.5436\n",
            "Epoch 63/100\n",
            "21/21 [==============================] - 0s 7ms/step - loss: 326.5479 - mae: 326.5479 - val_loss: 1252.5627 - val_mae: 1252.5627\n",
            "Epoch 64/100\n",
            "21/21 [==============================] - 0s 6ms/step - loss: 352.6903 - mae: 352.6903 - val_loss: 1321.0851 - val_mae: 1321.0851\n",
            "Epoch 65/100\n",
            "21/21 [==============================] - 0s 5ms/step - loss: 346.7038 - mae: 346.7038 - val_loss: 1435.6763 - val_mae: 1435.6763\n",
            "Epoch 66/100\n",
            "21/21 [==============================] - 0s 7ms/step - loss: 340.4796 - mae: 340.4796 - val_loss: 1236.5498 - val_mae: 1236.5498\n",
            "Epoch 67/100\n",
            "15/21 [====================>.........] - ETA: 0s - loss: 315.7570 - mae: 315.7570INFO:tensorflow:Assets written to: model_experiments/model_2_dense/assets\n",
            "21/21 [==============================] - 2s 82ms/step - loss: 321.1864 - mae: 321.1864 - val_loss: 1198.2712 - val_mae: 1198.2712\n",
            "Epoch 68/100\n",
            "21/21 [==============================] - 0s 5ms/step - loss: 321.3386 - mae: 321.3386 - val_loss: 1273.7220 - val_mae: 1273.7220\n",
            "Epoch 69/100\n",
            "21/21 [==============================] - 0s 4ms/step - loss: 338.5600 - mae: 338.5600 - val_loss: 1209.9536 - val_mae: 1209.9536\n",
            "Epoch 70/100\n",
            "21/21 [==============================] - 0s 6ms/step - loss: 324.8477 - mae: 324.8477 - val_loss: 1216.4813 - val_mae: 1216.4813\n",
            "Epoch 71/100\n",
            "21/21 [==============================] - 0s 4ms/step - loss: 322.4730 - mae: 322.4730 - val_loss: 1198.8284 - val_mae: 1198.8284\n",
            "Epoch 72/100\n",
            "21/21 [==============================] - 0s 5ms/step - loss: 323.2633 - mae: 323.2633 - val_loss: 1303.9690 - val_mae: 1303.9690\n",
            "Epoch 73/100\n",
            " 1/21 [>.............................] - ETA: 0s - loss: 422.5209 - mae: 422.5209INFO:tensorflow:Assets written to: model_experiments/model_2_dense/assets\n",
            "21/21 [==============================] - 1s 31ms/step - loss: 325.8905 - mae: 325.8905 - val_loss: 1194.2903 - val_mae: 1194.2903\n",
            "Epoch 74/100\n",
            "21/21 [==============================] - 0s 3ms/step - loss: 315.8696 - mae: 315.8696 - val_loss: 1264.1954 - val_mae: 1264.1954\n",
            "Epoch 75/100\n",
            "21/21 [==============================] - 0s 3ms/step - loss: 321.2135 - mae: 321.2135 - val_loss: 1218.9490 - val_mae: 1218.9490\n",
            "Epoch 76/100\n",
            "21/21 [==============================] - 0s 3ms/step - loss: 316.9137 - mae: 316.9137 - val_loss: 1260.7275 - val_mae: 1260.7275\n",
            "Epoch 77/100\n",
            "21/21 [==============================] - 0s 3ms/step - loss: 325.1733 - mae: 325.1733 - val_loss: 1304.3656 - val_mae: 1304.3656\n",
            "Epoch 78/100\n",
            "21/21 [==============================] - 0s 4ms/step - loss: 338.3104 - mae: 338.3104 - val_loss: 1509.9731 - val_mae: 1509.9731\n",
            "Epoch 79/100\n",
            "21/21 [==============================] - 0s 3ms/step - loss: 333.4704 - mae: 333.4704 - val_loss: 1207.3291 - val_mae: 1207.3291\n",
            "Epoch 80/100\n",
            " 1/21 [>.............................] - ETA: 0s - loss: 360.8012 - mae: 360.8012INFO:tensorflow:Assets written to: model_experiments/model_2_dense/assets\n",
            "21/21 [==============================] - 1s 31ms/step - loss: 316.9269 - mae: 316.9269 - val_loss: 1185.0237 - val_mae: 1185.0237\n",
            "Epoch 81/100\n",
            "21/21 [==============================] - 0s 3ms/step - loss: 320.1804 - mae: 320.1804 - val_loss: 1186.1365 - val_mae: 1186.1365\n",
            "Epoch 82/100\n",
            "21/21 [==============================] - 0s 3ms/step - loss: 332.5275 - mae: 332.5275 - val_loss: 1200.4078 - val_mae: 1200.4078\n",
            "Epoch 83/100\n",
            "21/21 [==============================] - 0s 3ms/step - loss: 317.7355 - mae: 317.7355 - val_loss: 1349.5524 - val_mae: 1349.5524\n",
            "Epoch 84/100\n",
            "21/21 [==============================] - 0s 4ms/step - loss: 324.9391 - mae: 324.9391 - val_loss: 1214.1448 - val_mae: 1214.1448\n",
            "Epoch 85/100\n",
            "21/21 [==============================] - 0s 3ms/step - loss: 320.4118 - mae: 320.4118 - val_loss: 1353.6980 - val_mae: 1353.6980\n",
            "Epoch 86/100\n",
            "21/21 [==============================] - 0s 3ms/step - loss: 360.7594 - mae: 360.7594 - val_loss: 1203.1233 - val_mae: 1203.1233\n",
            "Epoch 87/100\n",
            "21/21 [==============================] - 0s 3ms/step - loss: 329.3436 - mae: 329.3436 - val_loss: 1253.8694 - val_mae: 1253.8694\n",
            "Epoch 88/100\n",
            "21/21 [==============================] - 0s 3ms/step - loss: 321.7709 - mae: 321.7709 - val_loss: 1244.0652 - val_mae: 1244.0652\n",
            "Epoch 89/100\n",
            "21/21 [==============================] - 0s 3ms/step - loss: 332.2084 - mae: 332.2084 - val_loss: 1321.3861 - val_mae: 1321.3861\n",
            "Epoch 90/100\n",
            "21/21 [==============================] - 0s 3ms/step - loss: 332.3329 - mae: 332.3329 - val_loss: 1317.1873 - val_mae: 1317.1873\n",
            "Epoch 91/100\n",
            "21/21 [==============================] - 0s 3ms/step - loss: 328.3863 - mae: 328.3863 - val_loss: 1406.1008 - val_mae: 1406.1008\n",
            "Epoch 92/100\n",
            "21/21 [==============================] - 0s 3ms/step - loss: 328.0045 - mae: 328.0045 - val_loss: 1188.8646 - val_mae: 1188.8646\n",
            "Epoch 93/100\n",
            "21/21 [==============================] - 0s 3ms/step - loss: 323.0503 - mae: 323.0503 - val_loss: 1268.1377 - val_mae: 1268.1377\n",
            "Epoch 94/100\n",
            "21/21 [==============================] - 0s 3ms/step - loss: 326.9300 - mae: 326.9300 - val_loss: 1191.5809 - val_mae: 1191.5809\n",
            "Epoch 95/100\n",
            "21/21 [==============================] - 0s 3ms/step - loss: 335.4071 - mae: 335.4071 - val_loss: 1305.2479 - val_mae: 1305.2479\n",
            "Epoch 96/100\n",
            "21/21 [==============================] - 0s 3ms/step - loss: 336.7100 - mae: 336.7100 - val_loss: 1209.4969 - val_mae: 1209.4969\n",
            "Epoch 97/100\n",
            "21/21 [==============================] - 0s 3ms/step - loss: 323.8018 - mae: 323.8018 - val_loss: 1308.6021 - val_mae: 1308.6021\n",
            "Epoch 98/100\n",
            "21/21 [==============================] - 0s 4ms/step - loss: 326.2374 - mae: 326.2374 - val_loss: 1315.3208 - val_mae: 1315.3208\n",
            "Epoch 99/100\n",
            "21/21 [==============================] - 0s 3ms/step - loss: 320.2585 - mae: 320.2585 - val_loss: 1195.5764 - val_mae: 1195.5764\n",
            "Epoch 100/100\n",
            " 1/21 [>.............................] - ETA: 0s - loss: 401.2556 - mae: 401.2556INFO:tensorflow:Assets written to: model_experiments/model_2_dense/assets\n",
            "21/21 [==============================] - 1s 30ms/step - loss: 317.0047 - mae: 317.0047 - val_loss: 1183.7383 - val_mae: 1183.7383\n"
          ]
        },
        {
          "output_type": "execute_result",
          "data": {
            "text/plain": [
              "<keras.callbacks.History at 0x7f89721eb150>"
            ]
          },
          "metadata": {},
          "execution_count": 17
        }
      ]
    },
    {
      "cell_type": "code",
      "source": [
        "# Evaluation\n",
        "model_2.evaluate(test_windows, test_labels)"
      ],
      "metadata": {
        "id": "yOGnfih77BlN",
        "colab": {
          "base_uri": "https://localhost:8080/"
        },
        "outputId": "4b45b336-dffe-45b6-a127-10a95919e33d"
      },
      "execution_count": 19,
      "outputs": [
        {
          "output_type": "stream",
          "name": "stdout",
          "text": [
            "2/2 [==============================] - 0s 10ms/step - loss: 1183.7384 - mae: 1183.7384\n"
          ]
        },
        {
          "output_type": "execute_result",
          "data": {
            "text/plain": [
              "[1183.7384033203125, 1183.7384033203125]"
            ]
          },
          "metadata": {},
          "execution_count": 19
        }
      ]
    },
    {
      "cell_type": "code",
      "source": [
        "# Callbacks \n",
        "model_2 = tf.keras.models.load_model(\"model_experiments/model_2_dense\")\n",
        "model_2.evaluate(test_windows, test_labels)"
      ],
      "metadata": {
        "colab": {
          "base_uri": "https://localhost:8080/"
        },
        "id": "kiFxtT0p0mjN",
        "outputId": "672129bf-f421-4d97-e427-bdef79e9c5df"
      },
      "execution_count": 20,
      "outputs": [
        {
          "output_type": "stream",
          "name": "stdout",
          "text": [
            "2/2 [==============================] - 0s 13ms/step - loss: 1183.7384 - mae: 1183.7384\n"
          ]
        },
        {
          "output_type": "execute_result",
          "data": {
            "text/plain": [
              "[1183.7384033203125, 1183.7384033203125]"
            ]
          },
          "metadata": {},
          "execution_count": 20
        }
      ]
    },
    {
      "cell_type": "code",
      "source": [
        "# Function for forecasting\n",
        "def make_forecast(model, input_data):\n",
        "  forecast = model.predict(input_data)\n",
        "  return tf.squeeze(forecast)\n",
        "\n",
        "\n",
        "model_2_preds = make_forecast(model_2, test_windows)\n",
        "len(model_2_preds), model_2_preds[:20]  "
      ],
      "metadata": {
        "colab": {
          "base_uri": "https://localhost:8080/"
        },
        "id": "CXzqeiOF1Mtq",
        "outputId": "c9dfa19e-4513-41e7-e144-319f3de5c83a"
      },
      "execution_count": 21,
      "outputs": [
        {
          "output_type": "execute_result",
          "data": {
            "text/plain": [
              "(53, <tf.Tensor: shape=(20,), dtype=float32, numpy=\n",
              " array([58750.023, 54641.293, 54637.156, 56794.883, 57932.438, 57221.617,\n",
              "        57407.816, 56916.527, 54303.848, 49888.293, 49108.87 , 50040.86 ,\n",
              "        50425.293, 50428.25 , 48159.586, 47271.797, 48913.1  , 50037.906,\n",
              "        47385.98 , 48149.176], dtype=float32)>)"
            ]
          },
          "metadata": {},
          "execution_count": 21
        }
      ]
    },
    {
      "cell_type": "markdown",
      "source": [
        "model_2 predictions on the test dataset have a Mean Absolute Error of $1183.73 "
      ],
      "metadata": {
        "id": "M0weqLrE17zU"
      }
    },
    {
      "cell_type": "code",
      "source": [
        ""
      ],
      "metadata": {
        "id": "SV4SN0Jp2Rer"
      },
      "execution_count": null,
      "outputs": []
    }
  ]
}